{
 "cells": [
  {
   "cell_type": "markdown",
   "metadata": {},
   "source": [
    "# Propensity Matching Score"
   ]
  },
  {
   "cell_type": "markdown",
   "metadata": {},
   "source": [
    "This notebook is intended to provide a basic routine of code to generate a Propensity Matching Score model.\n",
    "\n",
    "## Motivation\n",
    "\n",
    "\n",
    "A Propensity Matching Score model, tries to account for the causal relationship between a treatment and control variables on a set of covariates.\n",
    "The treatment group being a dummy variavle; having or no having a condition. Matching is created to create an artificial control group and then to estimate the impact of treatment. The model assumes; unconfoundedness. Selection on treatment (or not) should be solely based on observable characteristics. Assuming there is no selection bias from unobserved characteristics. It is not possible to prove the validity of this unconfoundedness assumption."
   ]
  },
  {
   "cell_type": "markdown",
   "metadata": {},
   "source": [
    "### Steps followed: \n",
    "\n",
    " - Estimate the propensity score. This is the propability (logistic regression) that an observation is treated or not. \n",
    " - Perform matching. For each treated sample, identify an untreated sample with similar logit propensity score. The matching is 1-to-1 with replacement, using Nearest Neighbors technique.\n",
    " - Once matching is performed, we review the balance of the X variables to assess their balance. \n",
    " - Estimate the impact of treatment with a T-test of proportions.\n"
   ]
  },
  {
   "cell_type": "code",
   "execution_count": 1,
   "metadata": {},
   "outputs": [],
   "source": [
    "# Import all the necesarry libraries \n",
    "\n",
    "import pandas as pd\n",
    "import numpy as np\n",
    "import matplotlib.pyplot as plt\n",
    "import seaborn as sns\n",
    "import statsmodels.stats.proportion as sp\n",
    "from statsmodels.stats.proportion import proportions_ztest\n",
    "from sklearn.neighbors import NearestNeighbors\n",
    "from sklearn.model_selection import train_test_split\n",
    "from sklearn.linear_model import LogisticRegression"
   ]
  },
  {
   "cell_type": "code",
   "execution_count": 4,
   "metadata": {},
   "outputs": [],
   "source": [
    "#Load the data set and make a copy\n",
    "# The dataset used for this notebook belongs to MIT Sloan of Managment specifically to professor Sinan Aral\n",
    "\n",
    "data = pd.read_csv('your data here')\n",
    "df = data.copy()\n"
   ]
  },
  {
   "cell_type": "markdown",
   "metadata": {},
   "source": [
    "## Pre-processing and data wrangling"
   ]
  },
  {
   "cell_type": "code",
   "execution_count": 5,
   "metadata": {},
   "outputs": [],
   "source": [
    "# Pre-processing of the data set. \n",
    "df = df.drop(['delta2_shouts'], axis= 1)\n",
    "df = df.dropna()"
   ]
  },
  {
   "cell_type": "code",
   "execution_count": 6,
   "metadata": {},
   "outputs": [],
   "source": [
    "#Separate variables \n",
    "df= df[['adopter','age', 'male', 'tenure', 'good_country', 'friend_cnt', 'avg_friend_age',\n",
    "       'avg_friend_male', 'friend_country_cnt', 'subscriber_friend_cnt',\n",
    "       'songsListened', 'lovedTracks', 'posts', 'playlists', 'shouts']]"
   ]
  },
  {
   "cell_type": "code",
   "execution_count": 7,
   "metadata": {},
   "outputs": [],
   "source": [
    "#Creating treatment and control variables \n",
    "df['treatment'] =np.where(df['subscriber_friend_cnt'] >=1, 1,0)\n",
    "df_control = df[df.treatment==0]\n",
    "df_treatment = df[df.treatment==1]"
   ]
  },
  {
   "cell_type": "code",
   "execution_count": 9,
   "metadata": {},
   "outputs": [
    {
     "name": "stdout",
     "output_type": "stream",
     "text": [
      "<class 'pandas.core.frame.DataFrame'>\n",
      "Int64Index: 43827 entries, 2 to 107212\n",
      "Data columns (total 16 columns):\n",
      " #   Column                 Non-Null Count  Dtype  \n",
      "---  ------                 --------------  -----  \n",
      " 0   adopter                43827 non-null  int64  \n",
      " 1   age                    43827 non-null  float64\n",
      " 2   male                   43827 non-null  float64\n",
      " 3   tenure                 43827 non-null  float64\n",
      " 4   good_country           43827 non-null  float64\n",
      " 5   friend_cnt             43827 non-null  float64\n",
      " 6   avg_friend_age         43827 non-null  float64\n",
      " 7   avg_friend_male        43827 non-null  float64\n",
      " 8   friend_country_cnt     43827 non-null  float64\n",
      " 9   subscriber_friend_cnt  43827 non-null  float64\n",
      " 10  songsListened          43827 non-null  int64  \n",
      " 11  lovedTracks            43827 non-null  int64  \n",
      " 12  posts                  43827 non-null  int64  \n",
      " 13  playlists              43827 non-null  int64  \n",
      " 14  shouts                 43827 non-null  float64\n",
      " 15  treatment              43827 non-null  int64  \n",
      "dtypes: float64(10), int64(6)\n",
      "memory usage: 5.7 MB\n"
     ]
    }
   ],
   "source": [
    "df.info()"
   ]
  },
  {
   "cell_type": "code",
   "execution_count": 11,
   "metadata": {},
   "outputs": [
    {
     "name": "stdout",
     "output_type": "stream",
     "text": [
      "0    34004\n",
      "1     9823\n",
      "Name: treatment, dtype: int64 1783 1744\n"
     ]
    }
   ],
   "source": [
    "#Check the proportion of cases that are in the dependent variable (adopter) for the treatment and control group.\n",
    "prop_total = df.treatment.value_counts()\n",
    "prop_control = df_control.loc[df.adopter ==1, 'adopter'].count()\n",
    "prop_treatment = df_treatment.loc[df.adopter ==1, 'adopter'].count()\n",
    "print(prop_total, prop_control, prop_treatment)"
   ]
  },
  {
   "cell_type": "code",
   "execution_count": 12,
   "metadata": {},
   "outputs": [
    {
     "name": "stdout",
     "output_type": "stream",
     "text": [
      "0.000\n",
      "different distributions/different group proportions/reject H0: THE EFFECT EXISTS IN THE POPULATION\n"
     ]
    }
   ],
   "source": [
    "#Run a T-test of proportions to check for independece among groups\n",
    "stat, pval = proportions_ztest([1744, 1783], [9823, 34004])\n",
    "print('{0:0.3f}'.format(pval))\n",
    "alpha = 0.05\n",
    "if pval > alpha:\n",
    "    print('same distributions/same group proportion/fail to reject H0: THE EFFECT DOES NOT EXIST IN THE POPULATION')\n",
    "else: \n",
    "    print('different distributions/different group proportions/reject H0: THE EFFECT EXISTS IN THE POPULATION')"
   ]
  },
  {
   "cell_type": "markdown",
   "metadata": {},
   "source": [
    "## Model "
   ]
  },
  {
   "cell_type": "code",
   "execution_count": 13,
   "metadata": {},
   "outputs": [
    {
     "data": {
      "text/html": [
       "<div>\n",
       "<style scoped>\n",
       "    .dataframe tbody tr th:only-of-type {\n",
       "        vertical-align: middle;\n",
       "    }\n",
       "\n",
       "    .dataframe tbody tr th {\n",
       "        vertical-align: top;\n",
       "    }\n",
       "\n",
       "    .dataframe thead th {\n",
       "        text-align: right;\n",
       "    }\n",
       "</style>\n",
       "<table border=\"1\" class=\"dataframe\">\n",
       "  <thead>\n",
       "    <tr style=\"text-align: right;\">\n",
       "      <th></th>\n",
       "      <th>tenure</th>\n",
       "      <th>age</th>\n",
       "      <th>male</th>\n",
       "      <th>songsListened</th>\n",
       "      <th>lovedTracks</th>\n",
       "      <th>posts</th>\n",
       "      <th>playlists</th>\n",
       "      <th>shouts</th>\n",
       "    </tr>\n",
       "  </thead>\n",
       "  <tbody>\n",
       "    <tr>\n",
       "      <th>2</th>\n",
       "      <td>59.0</td>\n",
       "      <td>22.0</td>\n",
       "      <td>0.0</td>\n",
       "      <td>9687</td>\n",
       "      <td>194</td>\n",
       "      <td>0</td>\n",
       "      <td>1</td>\n",
       "      <td>8.0</td>\n",
       "    </tr>\n",
       "    <tr>\n",
       "      <th>5</th>\n",
       "      <td>35.0</td>\n",
       "      <td>35.0</td>\n",
       "      <td>0.0</td>\n",
       "      <td>0</td>\n",
       "      <td>0</td>\n",
       "      <td>0</td>\n",
       "      <td>0</td>\n",
       "      <td>0.0</td>\n",
       "    </tr>\n",
       "    <tr>\n",
       "      <th>6</th>\n",
       "      <td>42.0</td>\n",
       "      <td>27.0</td>\n",
       "      <td>1.0</td>\n",
       "      <td>508</td>\n",
       "      <td>0</td>\n",
       "      <td>0</td>\n",
       "      <td>1</td>\n",
       "      <td>2.0</td>\n",
       "    </tr>\n",
       "    <tr>\n",
       "      <th>9</th>\n",
       "      <td>25.0</td>\n",
       "      <td>21.0</td>\n",
       "      <td>0.0</td>\n",
       "      <td>1357</td>\n",
       "      <td>32</td>\n",
       "      <td>0</td>\n",
       "      <td>0</td>\n",
       "      <td>1.0</td>\n",
       "    </tr>\n",
       "    <tr>\n",
       "      <th>11</th>\n",
       "      <td>67.0</td>\n",
       "      <td>24.0</td>\n",
       "      <td>0.0</td>\n",
       "      <td>89984</td>\n",
       "      <td>20</td>\n",
       "      <td>2</td>\n",
       "      <td>0</td>\n",
       "      <td>81.0</td>\n",
       "    </tr>\n",
       "  </tbody>\n",
       "</table>\n",
       "</div>"
      ],
      "text/plain": [
       "    tenure   age  male  songsListened  lovedTracks  posts  playlists  shouts\n",
       "2     59.0  22.0   0.0           9687          194      0          1     8.0\n",
       "5     35.0  35.0   0.0              0            0      0          0     0.0\n",
       "6     42.0  27.0   1.0            508            0      0          1     2.0\n",
       "9     25.0  21.0   0.0           1357           32      0          0     1.0\n",
       "11    67.0  24.0   0.0          89984           20      2          0    81.0"
      ]
     },
     "execution_count": 13,
     "metadata": {},
     "output_type": "execute_result"
    }
   ],
   "source": [
    "# Choose features for propensity score calculation\n",
    "X = df[['tenure','age', 'male','songsListened', 'lovedTracks', 'posts', 'playlists', 'shouts']]\n",
    "y = df['treatment']\n",
    "\n",
    "X.head()"
   ]
  },
  {
   "cell_type": "code",
   "execution_count": 14,
   "metadata": {},
   "outputs": [
    {
     "name": "stderr",
     "output_type": "stream",
     "text": [
      "/Users/pabloaguirresolana/opt/anaconda3/lib/python3.9/site-packages/sklearn/linear_model/_logistic.py:763: ConvergenceWarning: lbfgs failed to converge (status=1):\n",
      "STOP: TOTAL NO. of ITERATIONS REACHED LIMIT.\n",
      "\n",
      "Increase the number of iterations (max_iter) or scale the data as shown in:\n",
      "    https://scikit-learn.org/stable/modules/preprocessing.html\n",
      "Please also refer to the documentation for alternative solver options:\n",
      "    https://scikit-learn.org/stable/modules/linear_model.html#logistic-regression\n",
      "  n_iter_i = _check_optimize_result(\n"
     ]
    },
    {
     "data": {
      "text/plain": [
       "LogisticRegression()"
      ]
     },
     "execution_count": 14,
     "metadata": {},
     "output_type": "execute_result"
    }
   ],
   "source": [
    "#Use logistic regression to calculate the propensity scores\n",
    "\n",
    "lr = LogisticRegression()\n",
    "lr.fit(X, y)"
   ]
  },
  {
   "cell_type": "code",
   "execution_count": 15,
   "metadata": {},
   "outputs": [
    {
     "data": {
      "text/html": [
       "<div>\n",
       "<style scoped>\n",
       "    .dataframe tbody tr th:only-of-type {\n",
       "        vertical-align: middle;\n",
       "    }\n",
       "\n",
       "    .dataframe tbody tr th {\n",
       "        vertical-align: top;\n",
       "    }\n",
       "\n",
       "    .dataframe thead th {\n",
       "        text-align: right;\n",
       "    }\n",
       "</style>\n",
       "<table border=\"1\" class=\"dataframe\">\n",
       "  <thead>\n",
       "    <tr style=\"text-align: right;\">\n",
       "      <th></th>\n",
       "      <th>column</th>\n",
       "      <th>coeff</th>\n",
       "    </tr>\n",
       "  </thead>\n",
       "  <tbody>\n",
       "    <tr>\n",
       "      <th>0</th>\n",
       "      <td>tenure</td>\n",
       "      <td>-0.010246</td>\n",
       "    </tr>\n",
       "    <tr>\n",
       "      <th>1</th>\n",
       "      <td>age</td>\n",
       "      <td>-0.051259</td>\n",
       "    </tr>\n",
       "    <tr>\n",
       "      <th>2</th>\n",
       "      <td>male</td>\n",
       "      <td>-0.002360</td>\n",
       "    </tr>\n",
       "    <tr>\n",
       "      <th>3</th>\n",
       "      <td>songsListened</td>\n",
       "      <td>0.000013</td>\n",
       "    </tr>\n",
       "    <tr>\n",
       "      <th>4</th>\n",
       "      <td>lovedTracks</td>\n",
       "      <td>0.001441</td>\n",
       "    </tr>\n",
       "    <tr>\n",
       "      <th>5</th>\n",
       "      <td>posts</td>\n",
       "      <td>0.000783</td>\n",
       "    </tr>\n",
       "    <tr>\n",
       "      <th>6</th>\n",
       "      <td>playlists</td>\n",
       "      <td>0.000141</td>\n",
       "    </tr>\n",
       "    <tr>\n",
       "      <th>7</th>\n",
       "      <td>shouts</td>\n",
       "      <td>0.003560</td>\n",
       "    </tr>\n",
       "  </tbody>\n",
       "</table>\n",
       "</div>"
      ],
      "text/plain": [
       "          column     coeff\n",
       "0         tenure -0.010246\n",
       "1            age -0.051259\n",
       "2           male -0.002360\n",
       "3  songsListened  0.000013\n",
       "4    lovedTracks  0.001441\n",
       "5          posts  0.000783\n",
       "6      playlists  0.000141\n",
       "7         shouts  0.003560"
      ]
     },
     "execution_count": 15,
     "metadata": {},
     "output_type": "execute_result"
    }
   ],
   "source": [
    "#get de coefficients\n",
    "lr.coef_.ravel() \n",
    "\n",
    "#get de feature names\n",
    "X.columns.to_numpy()\n",
    "\n",
    "#combine features and coefficients into a data frame\n",
    "coeffs = pd.DataFrame({\n",
    "    'column':X.columns.to_numpy(),\n",
    "    'coeff':lr.coef_.ravel(),\n",
    "})\n",
    "coeffs"
   ]
  },
  {
   "cell_type": "code",
   "execution_count": 16,
   "metadata": {},
   "outputs": [
    {
     "data": {
      "text/html": [
       "<div>\n",
       "<style scoped>\n",
       "    .dataframe tbody tr th:only-of-type {\n",
       "        vertical-align: middle;\n",
       "    }\n",
       "\n",
       "    .dataframe tbody tr th {\n",
       "        vertical-align: top;\n",
       "    }\n",
       "\n",
       "    .dataframe thead th {\n",
       "        text-align: right;\n",
       "    }\n",
       "</style>\n",
       "<table border=\"1\" class=\"dataframe\">\n",
       "  <thead>\n",
       "    <tr style=\"text-align: right;\">\n",
       "      <th></th>\n",
       "      <th>odds</th>\n",
       "    </tr>\n",
       "  </thead>\n",
       "  <tbody>\n",
       "    <tr>\n",
       "      <th>shouts</th>\n",
       "      <td>1.003566</td>\n",
       "    </tr>\n",
       "    <tr>\n",
       "      <th>lovedTracks</th>\n",
       "      <td>1.001442</td>\n",
       "    </tr>\n",
       "    <tr>\n",
       "      <th>posts</th>\n",
       "      <td>1.000784</td>\n",
       "    </tr>\n",
       "    <tr>\n",
       "      <th>playlists</th>\n",
       "      <td>1.000141</td>\n",
       "    </tr>\n",
       "    <tr>\n",
       "      <th>songsListened</th>\n",
       "      <td>1.000013</td>\n",
       "    </tr>\n",
       "    <tr>\n",
       "      <th>male</th>\n",
       "      <td>0.997643</td>\n",
       "    </tr>\n",
       "    <tr>\n",
       "      <th>tenure</th>\n",
       "      <td>0.989807</td>\n",
       "    </tr>\n",
       "    <tr>\n",
       "      <th>age</th>\n",
       "      <td>0.950033</td>\n",
       "    </tr>\n",
       "  </tbody>\n",
       "</table>\n",
       "</div>"
      ],
      "text/plain": [
       "                   odds\n",
       "shouts         1.003566\n",
       "lovedTracks    1.001442\n",
       "posts          1.000784\n",
       "playlists      1.000141\n",
       "songsListened  1.000013\n",
       "male           0.997643\n",
       "tenure         0.989807\n",
       "age            0.950033"
      ]
     },
     "execution_count": 16,
     "metadata": {},
     "output_type": "execute_result"
    }
   ],
   "source": [
    "# get the odds of the model \n",
    "odds = np.exp(lr.coef_[0]) \n",
    "oddsD = pd.DataFrame(odds, X.columns, columns=['odds']).sort_values(by='odds', ascending=False)\n",
    "oddsD "
   ]
  },
  {
   "cell_type": "code",
   "execution_count": 17,
   "metadata": {},
   "outputs": [],
   "source": [
    "# make predictions \n",
    "pred_binary = lr.predict(X)  \n",
    "pred_prob = lr.predict_proba(X)"
   ]
  },
  {
   "cell_type": "code",
   "execution_count": 18,
   "metadata": {},
   "outputs": [],
   "source": [
    "# The propensity score (ps) will be the probability of being label 1.\n",
    "df['ps'] = pred_prob[:, 1]"
   ]
  },
  {
   "cell_type": "markdown",
   "metadata": {},
   "source": [
    "## Matching"
   ]
  },
  {
   "cell_type": "code",
   "execution_count": 20,
   "metadata": {},
   "outputs": [
    {
     "name": "stdout",
     "output_type": "stream",
     "text": [
      "caliper (radius) is: 0.0382\n",
      "(43827, 10)\n",
      "[0.00000000e+00 1.79340463e-06 2.63880097e-06 4.04323260e-06\n",
      " 1.09131872e-05 1.33684001e-05 1.35625926e-05 1.44923358e-05\n",
      " 1.93479507e-05 2.14911872e-05]\n",
      "[    0  7456 15006 38524 28470 14901 18336 22980 16296 13667]\n"
     ]
    }
   ],
   "source": [
    "# use 25% of standard deviation of the propensity score as the caliper/radius\n",
    "# get the k closest neighbors for each observations\n",
    "\n",
    "caliper = np.std(df.ps) * 0.25\n",
    "print(f'caliper (radius) is: {caliper:.4f}')\n",
    "\n",
    "n_neighbors = 10\n",
    "\n",
    "# setup knn\n",
    "knn = NearestNeighbors(n_neighbors=n_neighbors, radius=caliper)\n",
    "\n",
    "ps = df[['ps']]  # double brackets as a dataframe\n",
    "knn.fit(ps)\n",
    "\n",
    "# distances and indexes\n",
    "distances, neighbor_indexes = knn.kneighbors(ps)\n",
    "\n",
    "print(neighbor_indexes.shape)\n",
    "\n",
    "# the 10 closest points to the first point\n",
    "print(distances[0])\n",
    "print(neighbor_indexes[0])"
   ]
  },
  {
   "cell_type": "code",
   "execution_count": 21,
   "metadata": {},
   "outputs": [],
   "source": [
    "# it is important to reset the index to make the matching, otherwise the matching will be difficult and erratic.\n",
    "df.reset_index()\n",
    "df.index = np.arange(1, len(df) + 1)"
   ]
  },
  {
   "cell_type": "code",
   "execution_count": 22,
   "metadata": {},
   "outputs": [
    {
     "name": "stdout",
     "output_type": "stream",
     "text": [
      "total observations in treatment: 9823\n",
      "total matched observations in control: 9738\n"
     ]
    }
   ],
   "source": [
    "# for each point in treatment, we find a matching point in control without replacement\n",
    "# note the 10 neighbors may include both points in treatment and control\n",
    "matched_control = []  # keep track of the matched observations in control\n",
    "\n",
    "for current_index, row in df.iterrows():  # iterate over the dataframe\n",
    "    if row.treatment == 0:  # the current row is in the control group\n",
    "        df.loc[current_index, 'matched'] = np.nan  # set matched to nan\n",
    "    else: \n",
    "        for idx in neighbor_indexes[current_index, :]: # for each row in treatment, find the k neighbors\n",
    "            # make sure the current row is not the idx - don't match to itself\n",
    "            # and the neighbor is in the control \n",
    "            if (current_index != idx) and (df.loc[idx].treatment == 0):\n",
    "                if idx not in matched_control:  # this control has not been matched yet\n",
    "                    df.loc[current_index, 'matched'] = idx  # record the matching\n",
    "                    matched_control.append(idx)  # add the matched to the list\n",
    "                    break\n",
    "\n",
    "\n",
    "print('total observations in treatment:', len(df[df.treatment==1]))\n",
    "print('total matched observations in control:', len(matched_control))"
   ]
  },
  {
   "cell_type": "code",
   "execution_count": 23,
   "metadata": {},
   "outputs": [
    {
     "data": {
      "text/plain": [
       "1    9738\n",
       "0    9738\n",
       "Name: treatment, dtype: int64"
      ]
     },
     "execution_count": 23,
     "metadata": {},
     "output_type": "execute_result"
    }
   ],
   "source": [
    "# control have no match\n",
    "treatment_matched = df.dropna(subset=['matched'])  # drop not matched\n",
    "\n",
    "# matched control observation indexes\n",
    "control_matched_idx = treatment_matched.matched\n",
    "control_matched_idx = control_matched_idx.astype(int)  # change to int\n",
    "control_matched = df.loc[control_matched_idx, :]  # select matched control observations\n",
    "\n",
    "# combine the matched treatment and control\n",
    "df_matched = pd.concat([treatment_matched, control_matched])\n",
    "\n",
    "df_matched.treatment.value_counts()"
   ]
  },
  {
   "cell_type": "markdown",
   "metadata": {},
   "source": [
    "## Proof of independence (Causality)\n",
    "\n",
    "If there is independence (p-value > 0.05) between treatment and control group, we can say that there is a casual link between the dependet variable ('adopter') and the treatmente group = 1 (having friends that are subscribers)"
   ]
  },
  {
   "cell_type": "code",
   "execution_count": 24,
   "metadata": {},
   "outputs": [
    {
     "data": {
      "text/html": [
       "<div>\n",
       "<style scoped>\n",
       "    .dataframe tbody tr th:only-of-type {\n",
       "        vertical-align: middle;\n",
       "    }\n",
       "\n",
       "    .dataframe tbody tr th {\n",
       "        vertical-align: top;\n",
       "    }\n",
       "\n",
       "    .dataframe thead th {\n",
       "        text-align: right;\n",
       "    }\n",
       "</style>\n",
       "<table border=\"1\" class=\"dataframe\">\n",
       "  <thead>\n",
       "    <tr style=\"text-align: right;\">\n",
       "      <th>treatment</th>\n",
       "      <th>0</th>\n",
       "      <th>1</th>\n",
       "      <th>All</th>\n",
       "    </tr>\n",
       "    <tr>\n",
       "      <th>adopter</th>\n",
       "      <th></th>\n",
       "      <th></th>\n",
       "      <th></th>\n",
       "    </tr>\n",
       "  </thead>\n",
       "  <tbody>\n",
       "    <tr>\n",
       "      <th>0</th>\n",
       "      <td>9236</td>\n",
       "      <td>8040</td>\n",
       "      <td>17276</td>\n",
       "    </tr>\n",
       "    <tr>\n",
       "      <th>1</th>\n",
       "      <td>502</td>\n",
       "      <td>1698</td>\n",
       "      <td>2200</td>\n",
       "    </tr>\n",
       "    <tr>\n",
       "      <th>All</th>\n",
       "      <td>9738</td>\n",
       "      <td>9738</td>\n",
       "      <td>19476</td>\n",
       "    </tr>\n",
       "  </tbody>\n",
       "</table>\n",
       "</div>"
      ],
      "text/plain": [
       "treatment     0     1    All\n",
       "adopter                     \n",
       "0          9236  8040  17276\n",
       "1           502  1698   2200\n",
       "All        9738  9738  19476"
      ]
     },
     "execution_count": 24,
     "metadata": {},
     "output_type": "execute_result"
    }
   ],
   "source": [
    "# get proportions of dependent variable (adopters) among treament and contro group\n",
    "\n",
    "pd.crosstab(index = df_matched['adopter'], columns = df_matched['treatment'], margins = True)"
   ]
  },
  {
   "cell_type": "code",
   "execution_count": 25,
   "metadata": {},
   "outputs": [
    {
     "name": "stdout",
     "output_type": "stream",
     "text": [
      "0.000\n",
      "different distributions/different group proportions/reject H0: THE EFFECT EXISTS IN THE POPULATION\n"
     ]
    }
   ],
   "source": [
    "# perform T-test of proportions \n",
    "stat, pval = proportions_ztest([502, 1698], [9738, 9738])\n",
    "print('{0:0.3f}'.format(pval))\n",
    "alpha = 0.05\n",
    "if pval > alpha:\n",
    "    print('same distributions/same group proportion/fail to reject H0: THE EFFECT DOES NOT EXIST IN THE POPULATION')\n",
    "else: \n",
    "    print('different distributions/different group proportions/reject H0: THE EFFECT EXISTS IN THE POPULATION')\n"
   ]
  }
 ],
 "metadata": {
  "kernelspec": {
   "display_name": "Python 3.9.7 ('base')",
   "language": "python",
   "name": "python3"
  },
  "language_info": {
   "codemirror_mode": {
    "name": "ipython",
    "version": 3
   },
   "file_extension": ".py",
   "mimetype": "text/x-python",
   "name": "python",
   "nbconvert_exporter": "python",
   "pygments_lexer": "ipython3",
   "version": "3.9.7"
  },
  "orig_nbformat": 4,
  "vscode": {
   "interpreter": {
    "hash": "b605c9f44eedf5da3f1125dbd40ce03f187f0beb45a7a87b7456a43acc54d9bd"
   }
  }
 },
 "nbformat": 4,
 "nbformat_minor": 2
}
